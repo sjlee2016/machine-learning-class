{
 "cells": [
  {
   "cell_type": "code",
   "execution_count": 5,
   "metadata": {
    "colab": {},
    "colab_type": "code",
    "id": "u-FJLUes0O1s"
   },
   "outputs": [],
   "source": [
    "%matplotlib inline\n",
    "from fastai.basics import *"
   ]
  },
  {
   "cell_type": "markdown",
   "metadata": {
    "colab_type": "text",
    "id": "iqvKugGE0O1y"
   },
   "source": [
    "In this part of the lecture we explain Stochastic Gradient Descent (SGD) which is an **optimization** method commonly used in neural networks. We will illustrate the concepts with concrete examples."
   ]
  },
  {
   "cell_type": "markdown",
   "metadata": {
    "colab_type": "text",
    "id": "97ukl9-e0O1z"
   },
   "source": [
    "#  Linear Regression problem"
   ]
  },
  {
   "cell_type": "markdown",
   "metadata": {
    "colab_type": "text",
    "id": "t3de7jGc0O10"
   },
   "source": [
    "The goal of linear regression is to fit a line to a set of points.\n",
    "\n"
   ]
  },
  {
   "cell_type": "code",
   "execution_count": 6,
   "metadata": {
    "colab": {},
    "colab_type": "code",
    "id": "VamXzVvf0O11"
   },
   "outputs": [],
   "source": [
    "n=100   # we are going to create 100 synthetic data "
   ]
  },
  {
   "cell_type": "code",
   "execution_count": 7,
   "metadata": {
    "colab": {
     "base_uri": "https://localhost:8080/",
     "height": 102
    },
    "colab_type": "code",
    "id": "AHLbhr-o0O14",
    "outputId": "3b29bcce-8918-4f42-b804-d6ca4edaf91d"
   },
   "outputs": [
    {
     "data": {
      "text/plain": [
       "tensor([[ 0.5265,  1.0000],\n",
       "        [-0.3014,  1.0000],\n",
       "        [ 0.9877,  1.0000],\n",
       "        [ 0.6258,  1.0000],\n",
       "        [ 0.9157,  1.0000]])"
      ]
     },
     "execution_count": 7,
     "metadata": {},
     "output_type": "execute_result"
    }
   ],
   "source": [
    "x = torch.ones(n,2) # create array \n",
    "x[:,0].uniform_(-1.,1)  # grab uniform random number within range of -1 and 1 and replace it with column 0 of X \n",
    "x[:5]"
   ]
  },
  {
   "cell_type": "code",
   "execution_count": 8,
   "metadata": {
    "colab": {
     "base_uri": "https://localhost:8080/",
     "height": 34
    },
    "colab_type": "code",
    "id": "mDUzM-A80O1-",
    "outputId": "f02186c3-b208-417e-b84f-c080002fae25"
   },
   "outputs": [
    {
     "data": {
      "text/plain": [
       "tensor([3., 2.])"
      ]
     },
     "execution_count": 8,
     "metadata": {},
     "output_type": "execute_result"
    }
   ],
   "source": [
    "a = tensor(3.,2); a     # create coefficient"
   ]
  },
  {
   "cell_type": "code",
   "execution_count": 9,
   "metadata": {
    "colab": {},
    "colab_type": "code",
    "id": "lG4VrCgz0O2C"
   },
   "outputs": [],
   "source": [
    "y = x@a + torch.rand(n)  # create a line and add a random value"
   ]
  },
  {
   "cell_type": "code",
   "execution_count": 10,
   "metadata": {
    "colab": {
     "base_uri": "https://localhost:8080/",
     "height": 265
    },
    "colab_type": "code",
    "id": "gziMJdaq0O2F",
    "outputId": "0b63ddc3-d17b-4ffe-87c5-34d96811e21a"
   },
   "outputs": [
    {
     "data": {
      "image/png": "[encoded data removed]",
      "text/plain": [
       "<Figure size 432x288 with 1 Axes>"
      ]
     },
     "metadata": {
      "needs_background": "light"
     },
     "output_type": "display_data"
    }
   ],
   "source": [
    "plt.scatter(x[:,0], y);  # plt is the library to plot datas. Here, the code plots the data x and y"
   ]
  },
  {
   "cell_type": "markdown",
   "metadata": {
    "colab_type": "text",
    "id": "ZAkAWWYX0O2I"
   },
   "source": [
    "You want to find **parameters** (weights) `a` such that you minimize the *error* between the points and the line `x@a`. Note that here `a` is unknown. For a regression problem the most common *error function* or *loss function* is the **mean squared error**. "
   ]
  },
  {
   "cell_type": "code",
   "execution_count": 11,
   "metadata": {
    "colab": {},
    "colab_type": "code",
    "id": "zRQ0jsub0O2J"
   },
   "outputs": [],
   "source": [
    "def mse(y_hat, y): return ((y_hat-y)**2).mean()  # define a function that returns mean squared error value "
   ]
  },
  {
   "cell_type": "markdown",
   "metadata": {
    "colab_type": "text",
    "id": "T2j25okS0O2M"
   },
   "source": [
    "Suppose we believe `a = (-1.0,1.0)` then we can compute `y_hat` which is our *prediction* and then compute our error."
   ]
  },
  {
   "cell_type": "code",
   "execution_count": 12,
   "metadata": {
    "colab": {},
    "colab_type": "code",
    "id": "prmUFwDF0O2N"
   },
   "outputs": [],
   "source": [
    "a = tensor(-1.,1) # put -1. to make it into float type "
   ]
  },
  {
   "cell_type": "code",
   "execution_count": 13,
   "metadata": {
    "colab": {
     "base_uri": "https://localhost:8080/",
     "height": 34
    },
    "colab_type": "code",
    "id": "20bc2y7g0O2Q",
    "outputId": "4158fefd-508b-47bf-95d6-78c5bbb5cbce"
   },
   "outputs": [
    {
     "data": {
      "text/plain": [
       "tensor(7.8516)"
      ]
     },
     "execution_count": 13,
     "metadata": {},
     "output_type": "execute_result"
    }
   ],
   "source": [
    "y_hat = x@a\n",
    "mse(y_hat, y) # this approach works well even with millions of data, such as converting pixel values into probability "
   ]
  },
  {
   "cell_type": "code",
   "execution_count": 14,
   "metadata": {
    "colab": {
     "base_uri": "https://localhost:8080/",
     "height": 265
    },
    "colab_type": "code",
    "id": "xKUfL7JN0O2T",
    "outputId": "4dcc3590-bff5-434e-dd2b-3167843736bd"
   },
   "outputs": [
    {
     "data": {
      "image/png": "[encoded data removed]",
      "text/plain": [
       "<Figure size 432x288 with 1 Axes>"
      ]
     },
     "metadata": {
      "needs_background": "light"
     },
     "output_type": "display_data"
    }
   ],
   "source": [
    "plt.scatter(x[:,0],y)  # plot the x,y\n",
    "plt.scatter(x[:,0],y_hat); # plot the mean square error this shows how far away the prediction is from the actual number  "
   ]
  },
  {
   "cell_type": "markdown",
   "metadata": {
    "colab_type": "text",
    "id": "IJbdX0Tc0O2V"
   },
   "source": [
    "So far we have specified the *model* (linear regression) and the *evaluation criteria* (or *loss function*). Now we need to handle *optimization*; that is, how do we find the best values for `a`? How do we find the best *fitting* linear regression."
   ]
  },
  {
   "cell_type": "markdown",
   "metadata": {
    "colab_type": "text",
    "id": "QE6v_5mY0O2Y"
   },
   "source": [
    "# Gradient Descent"
   ]
  },
  {
   "cell_type": "markdown",
   "metadata": {
    "colab_type": "text",
    "id": "E-tmEkAe0O2Z"
   },
   "source": [
    "We would like to find the values of `a` that minimize `mse_loss`.\n",
    "\n",
    "**Gradient descent** is an algorithm that minimizes functions. Given a function defined by a set of parameters, gradient descent starts with an initial set of parameter values and iteratively moves toward a set of parameter values that minimize the function. This iterative minimization is achieved by taking steps in the negative direction of the function gradient.\n",
    "\n",
    "Here is gradient descent implemented in [PyTorch](http://pytorch.org/)."
   ]
  },
  {
   "cell_type": "code",
   "execution_count": 15,
   "metadata": {
    "colab": {
     "base_uri": "https://localhost:8080/",
     "height": 51
    },
    "colab_type": "code",
    "id": "1kJboFo10O2a",
    "outputId": "0b2cc64a-8b2f-4eda-e7e1-12e15a02f60f"
   },
   "outputs": [
    {
     "data": {
      "text/plain": [
       "Parameter containing:\n",
       "tensor([-1.,  1.], requires_grad=True)"
      ]
     },
     "execution_count": 15,
     "metadata": {},
     "output_type": "execute_result"
    }
   ],
   "source": [
    "a = nn.Parameter(a); a"
   ]
  },
  {
   "cell_type": "code",
   "execution_count": 16,
   "metadata": {
    "colab": {},
    "colab_type": "code",
    "id": "HGq71eBs0O2d"
   },
   "outputs": [],
   "source": [
    "def update():   # a loop to update a \n",
    "    y_hat = x@a\n",
    "    loss = mse(y, y_hat) # calulcate mean square error \n",
    "    if t % 10 == 0: print(loss) # print loss for each 10 steps\n",
    "    loss.backward() # calculate gradient \n",
    "    with torch.no_grad():\n",
    "        a.sub_(lr * a.grad)\n",
    "        a.grad.zero_()"
   ]
  },
  {
   "cell_type": "code",
   "execution_count": 17,
   "metadata": {
    "colab": {
     "base_uri": "https://localhost:8080/",
     "height": 187
    },
    "colab_type": "code",
    "id": "go98hQrj0O2f",
    "outputId": "1fe41ffc-466b-4593-c770-2fcd5a1b39a9"
   },
   "outputs": [
    {
     "name": "stdout",
     "output_type": "stream",
     "text": [
      "tensor(7.8516, grad_fn=<MeanBackward0>)\n",
      "tensor(1.4285, grad_fn=<MeanBackward0>)\n",
      "tensor(0.4537, grad_fn=<MeanBackward0>)\n",
      "tensor(0.1877, grad_fn=<MeanBackward0>)\n",
      "tensor(0.1126, grad_fn=<MeanBackward0>)\n",
      "tensor(0.0914, grad_fn=<MeanBackward0>)\n",
      "tensor(0.0854, grad_fn=<MeanBackward0>)\n",
      "tensor(0.0837, grad_fn=<MeanBackward0>)\n",
      "tensor(0.0832, grad_fn=<MeanBackward0>)\n",
      "tensor(0.0831, grad_fn=<MeanBackward0>)\n"
     ]
    }
   ],
   "source": [
    "lr = 1e-1\n",
    "for t in range(100): update()"
   ]
  },
  {
   "cell_type": "code",
   "execution_count": 18,
   "metadata": {
    "colab": {
     "base_uri": "https://localhost:8080/",
     "height": 572
    },
    "colab_type": "code",
    "id": "AjOUWzZD0O2j",
    "outputId": "705dc2ef-2fa5-4ed0-f223-e6afdba5d406"
   },
   "outputs": [
    {
     "data": {
      "image/png": "[encoded data removed]",
      "text/plain": [
       "<Figure size 432x288 with 1 Axes>"
      ]
     },
     "metadata": {
      "needs_background": "light"
     },
     "output_type": "display_data"
    }
   ],
   "source": [
    "a = a.detach().numpy()\n",
    "plt.scatter(x[:,0],y)\n",
    "plt.scatter(x[:,0],x@a);"
   ]
  },
  {
   "cell_type": "markdown",
   "metadata": {
    "colab_type": "text",
    "id": "ApdAZ_IS0O2l"
   },
   "source": [
    "## Animate it!"
   ]
  },
  {
   "cell_type": "code",
   "execution_count": 22,
   "metadata": {
    "colab": {},
    "colab_type": "code",
    "id": "Cdkax8iF0O2m"
   },
   "outputs": [],
   "source": [
    "from matplotlib import animation, rc\n",
    "rc('animation', html='jshtml')"
   ]
  },
  {
   "cell_type": "code",
   "execution_count": null,
   "metadata": {
    "colab": {
     "base_uri": "https://localhost:8080/",
     "height": 623
    },
    "colab_type": "code",
    "id": "3jMxEKa40O2o",
    "outputId": "7b2e57c6-6db4-43d9-cb2c-21e6ca3f4b78"
   },
   "outputs": [],
   "source": [
    "a = nn.Parameter(tensor(-1.,1))\n",
    "fig = plt.figure()\n",
    "plt.scatter(x[:,0], y, c='orange')\n",
    "line, = plt.plot(x[:,0], x@a)\n",
    "plt.close()\n",
    "\n",
    "def animate(i):\n",
    "    update()\n",
    "    line.set_ydata(x@a)\n",
    "    return line,\n",
    "\n",
    "animation.FuncAnimation(fig, animate, np.arange(0, 100), interval=20)"
   ]
  },
  {
   "cell_type": "markdown",
   "metadata": {
    "colab_type": "text",
    "id": "vEeXs0pp0O2s"
   },
   "source": [
    "In practice, we don't calculate on the whole file at once, but we use *mini-batches*."
   ]
  },
  {
   "cell_type": "markdown",
   "metadata": {
    "colab_type": "text",
    "id": "WtCx7Cg90O2t"
   },
   "source": [
    "## Vocab"
   ]
  },
  {
   "cell_type": "markdown",
   "metadata": {
    "colab_type": "text",
    "id": "PC0d262Y0O2t"
   },
   "source": [
    "- Learning rate : the thing that we multiply the gradient by to update the weight \n",
    "- Epoch : one completly run to all of the data\n",
    "- Minibatch :  a subset of all your data during one iteration.\n",
    "- SGD : gradient percent using minibatches \n",
    "- Model / Architecture : the mathetical function that you use to fit the data \n",
    "- Parameters : also known as coefficents, weights are the things you are updating through training the model\n",
    "- Loss function : tell you how far away predictions are from the actual value\n",
    "\n",
    "For classification problems, we use *cross entropy loss*, also known as *negative log likelihood loss*. This penalizes incorrect confident predictions, and correct unconfident predictions."
   ]
  }
 ],
 "metadata": {
  "accelerator": "GPU",
  "colab": {
   "name": "lesson2-sgd.ipynb의 사본",
   "provenance": []
  },
  "kernelspec": {
   "display_name": "Python 3",
   "language": "python",
   "name": "python3"
  },
  "language_info": {
   "codemirror_mode": {
    "name": "ipython",
    "version": 3
   },
   "file_extension": ".py",
   "mimetype": "text/x-python",
   "name": "python",
   "nbconvert_exporter": "python",
   "pygments_lexer": "ipython3",
   "version": "3.7.4"
  }
 },
 "nbformat": 4,
 "nbformat_minor": 1
}
